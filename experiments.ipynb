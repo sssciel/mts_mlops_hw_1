{
 "cells": [
  {
   "metadata": {},
   "cell_type": "code",
   "source": [
    "import numpy as np\n",
    "import pandas as pd\n",
    "from geopy.distance import great_circle\n",
    "from catboost import CatBoostClassifier\n",
    "\n",
    "from sklearn.model_selection import train_test_split"
   ],
   "id": "51fd18cc7a90f0ab",
   "outputs": [],
   "execution_count": null
  },
  {
   "metadata": {},
   "cell_type": "code",
   "source": "df = pd.read_csv('teta-ml-1-2025/train.csv')",
   "id": "12b1e6ea9254e649",
   "outputs": [],
   "execution_count": null
  },
  {
   "metadata": {},
   "cell_type": "code",
   "source": "df.head()",
   "id": "6907357de4ae4d87",
   "outputs": [],
   "execution_count": null
  },
  {
   "metadata": {},
   "cell_type": "code",
   "source": [
    "for col in df.columns:\n",
    "    if df[col].dtype == 'object':\n",
    "        df[col] = df[col].fillna(df[col].mode()[0])\n",
    "    elif np.issubdtype(df[col].dtype, np.number):\n",
    "        df[col] = df[col].fillna(df[col].median())"
   ],
   "id": "33fdb29f34cb35c0",
   "outputs": [],
   "execution_count": null
  },
  {
   "metadata": {},
   "cell_type": "code",
   "source": [
    "def add_distance_features(df):\n",
    "    df['distance'] = df.apply(\n",
    "        lambda x: great_circle(\n",
    "            (x['lat'], x['lon']),\n",
    "            (x['merchant_lat'], x['merchant_lon'])\n",
    "        ).km,\n",
    "        axis=1\n",
    "    )\n",
    "    return df.drop(columns=['lat', 'lon', 'merchant_lat', 'merchant_lon'])"
   ],
   "id": "41a4dc95f040c36",
   "outputs": [],
   "execution_count": null
  },
  {
   "metadata": {},
   "cell_type": "code",
   "source": "df = add_distance_features(df)",
   "id": "9ed0e78800b76134",
   "outputs": [],
   "execution_count": null
  },
  {
   "metadata": {},
   "cell_type": "code",
   "source": "df.head()",
   "id": "c4d51be6b9f03c19",
   "outputs": [],
   "execution_count": null
  },
  {
   "metadata": {},
   "cell_type": "code",
   "source": "df['transaction_time'] = pd.to_datetime(df['transaction_time'])",
   "id": "ccd0af6e302ce9f7",
   "outputs": [],
   "execution_count": null
  },
  {
   "metadata": {},
   "cell_type": "code",
   "source": [
    "\n",
    "df['tx_hour'] = df['transaction_time'].dt.hour\n",
    "df['tx_minute'] = df['transaction_time'].dt.minute\n",
    "df['tx_dow'] = df['transaction_time'].dt.dayofweek  # 0=Mon\n",
    "df['tx_day'] = df['transaction_time'].dt.day\n",
    "df['tx_month'] = df['transaction_time'].dt.month\n",
    "df['is_weekend'] = df['tx_dow'].isin([5,6]).astype(int)\n",
    "df['tx_unix'] = (df['transaction_time'] - pd.Timestamp(\"1970-01-01\")) // pd.Timedelta('1s')\n"
   ],
   "id": "93d8e2a73ef2b1f5",
   "outputs": [],
   "execution_count": null
  },
  {
   "metadata": {},
   "cell_type": "code",
   "source": "df = df.drop(columns=['transaction_time'])",
   "id": "9a68f6717ea5ae76",
   "outputs": [],
   "execution_count": null
  },
  {
   "metadata": {},
   "cell_type": "code",
   "source": "df.head()",
   "id": "1172e83d853fa744",
   "outputs": [],
   "execution_count": null
  },
  {
   "metadata": {},
   "cell_type": "code",
   "source": [
    "X = df.drop(\"target\", axis=1)\n",
    "y = df[\"target\"]\n",
    "\n",
    "X_train, X_test, y_train, y_test = train_test_split(X, y, test_size=0.2, random_state=42)"
   ],
   "id": "5a11552aa8372431",
   "outputs": [],
   "execution_count": null
  },
  {
   "metadata": {},
   "cell_type": "code",
   "source": "cat_features = X_train.select_dtypes(include=['object']).columns.tolist()",
   "id": "cba4244a79521733",
   "outputs": [],
   "execution_count": null
  },
  {
   "metadata": {},
   "cell_type": "code",
   "source": [
    "model = CatBoostClassifier(\n",
    "    iterations=400,          # уменьшайте при необходимости\n",
    "    depth=6,                 # 4–6 обычно сильно экономят вес\n",
    "    border_count=64,         # 32–64 уменьшает размер квантовки признаков\n",
    "    l2_leaf_reg=6.0,\n",
    "    one_hot_max_size=5,      # ограничивает one-hot для категориальных\n",
    "    max_ctr_complexity=1,    # упрощает CTR-комбинации\n",
    "    ctr_leaf_count_limit=8,  # ограничивает размер CTR-таблиц\n",
    "    cat_features=cat_features)\n",
    "model.fit(X_train, y_train)\n"
   ],
   "id": "5077a4aec21fd857",
   "outputs": [],
   "execution_count": null
  },
  {
   "metadata": {},
   "cell_type": "code",
   "source": "class_predictions = model.predict(X_test)",
   "id": "df37f39c13f2a221",
   "outputs": [],
   "execution_count": null
  },
  {
   "metadata": {},
   "cell_type": "code",
   "source": [
    "from sklearn.metrics import classification_report\n",
    "\n",
    "class_report = classification_report(y_test, class_predictions)\n",
    "print(class_report)"
   ],
   "id": "3d186f26d2342638",
   "outputs": [],
   "execution_count": null
  },
  {
   "metadata": {},
   "cell_type": "code",
   "source": "model.save_model(\"base_fraudmodel.cbm\", format=\"cbm\")",
   "id": "93b1315d17ef5bc0",
   "outputs": [],
   "execution_count": null
  },
  {
   "metadata": {},
   "cell_type": "code",
   "source": "class_predictions",
   "id": "52fefab07af1702",
   "outputs": [],
   "execution_count": null
  },
  {
   "metadata": {},
   "cell_type": "code",
   "source": [
    "predictions_df = pd.DataFrame(class_predictions, columns=['target'])\n",
    "predictions_df.to_csv('predictions.csv')"
   ],
   "id": "ad10a4c5230e5168",
   "outputs": [],
   "execution_count": null
  },
  {
   "metadata": {},
   "cell_type": "code",
   "source": "predictions_df",
   "id": "c32f57b5b5bb9211",
   "outputs": [],
   "execution_count": null
  },
  {
   "metadata": {},
   "cell_type": "code",
   "source": "class_predictions",
   "id": "4e06f1656425d960",
   "outputs": [],
   "execution_count": null
  },
  {
   "metadata": {},
   "cell_type": "code",
   "source": "",
   "id": "638466b270179e6d",
   "outputs": [],
   "execution_count": null
  }
 ],
 "metadata": {
  "kernelspec": {
   "display_name": "Python 3",
   "language": "python",
   "name": "python3"
  },
  "language_info": {
   "codemirror_mode": {
    "name": "ipython",
    "version": 2
   },
   "file_extension": ".py",
   "mimetype": "text/x-python",
   "name": "python",
   "nbconvert_exporter": "python",
   "pygments_lexer": "ipython2",
   "version": "2.7.6"
  }
 },
 "nbformat": 4,
 "nbformat_minor": 5
}
